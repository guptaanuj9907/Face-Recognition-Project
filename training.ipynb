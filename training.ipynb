{
 "cells": [
  {
   "cell_type": "code",
   "execution_count": 16,
   "metadata": {},
   "outputs": [],
   "source": [
    "import cv2\n",
    "import numpy as np\n",
    "import os\n",
    "from PIL import Image"
   ]
  },
  {
   "cell_type": "code",
   "execution_count": 17,
   "metadata": {},
   "outputs": [],
   "source": [
    "recogniser=cv2.face.LBPHFaceRecognizer_create() \n",
    "path='dataset'\n",
    "\n",
    "def get_user_id(path):\n",
    "    img_path=[os.path.join('dataset',f) for f in os.listdir(path)]\n",
    "#     print(img_path)\n",
    "    faces=[]\n",
    "    ids=[]\n",
    "    for i in img_path:\n",
    "        open_img=Image.open(i).convert('L')\n",
    "        face=np.array(open_img,'uint8')\n",
    "        ID=int(os.path.split(i)[-1].split('.')[1])\n",
    "        faces.append(face)\n",
    "        ids.append(ID)\n",
    "    \n",
    "    return ids,faces\n",
    "\n",
    "ids,faces=get_user_id(path)\n",
    "recogniser.train(faces,np.array(ids))\n",
    "recogniser.save(\"C:/Users/CG-DTE/AppData/Local/Programs/Python/Python37/Scripts/OpenCV/face recognition project/recogniser.yml\")\n",
    "cv2.destroyAllWindows()"
   ]
  },
  {
   "cell_type": "code",
   "execution_count": null,
   "metadata": {},
   "outputs": [],
   "source": []
  }
 ],
 "metadata": {
  "kernelspec": {
   "display_name": "Python 3",
   "language": "python",
   "name": "python3"
  },
  "language_info": {
   "codemirror_mode": {
    "name": "ipython",
    "version": 3
   },
   "file_extension": ".py",
   "mimetype": "text/x-python",
   "name": "python",
   "nbconvert_exporter": "python",
   "pygments_lexer": "ipython3",
   "version": "3.7.5"
  }
 },
 "nbformat": 4,
 "nbformat_minor": 4
}
