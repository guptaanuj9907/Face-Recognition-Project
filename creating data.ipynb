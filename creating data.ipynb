{
 "cells": [
  {
   "cell_type": "code",
   "execution_count": 21,
   "metadata": {},
   "outputs": [],
   "source": [
    "import cv2\n",
    "import numpy as np"
   ]
  },
  {
   "cell_type": "code",
   "execution_count": 25,
   "metadata": {},
   "outputs": [
    {
     "name": "stdout",
     "output_type": "stream",
     "text": [
      "enter user id4\n"
     ]
    }
   ],
   "source": [
    "cap=cv2.VideoCapture(0)\n",
    "face_classifier=cv2.CascadeClassifier(\"C:/Users/CG-DTE/AppData/Local/Programs/Python/Python37/Scripts/OpenCV/Face Detection/haarcascade_frontalface_default.xml\")\n",
    "id=input(\"enter user id\")\n",
    "sample_no=0\n",
    "while True:\n",
    "    ret,frame=cap.read()\n",
    "    grey=cv2.cvtColor(frame,cv2.COLOR_BGR2GRAY)\n",
    "    face=face_classifier.detectMultiScale(grey,1.3,5)\n",
    "    for fac in face:\n",
    "        sample_no=sample_no+1\n",
    "        x,y,w,h=fac[:]\n",
    "        cv2.imwrite(\"C:/Users/CG-DTE/AppData/Local/Programs/Python/Python37/Scripts/OpenCV/face recognition project/dataset/User.\"+str(id)+\".\"+str(sample_no)+'.jpg',grey[y:y+h,x:x+h])\n",
    "        cv2.rectangle(frame,(x,y),(x+w,y+h),(0,255,0),3)\n",
    "    if cv2.waitKey(1)==13 or sample_no==20:\n",
    "            break   \n",
    "    cv2.imshow(\"mine\",frame)\n",
    "    \n",
    "cap.release()\n",
    "cv2.destroyAllWindows()"
   ]
  },
  {
   "cell_type": "code",
   "execution_count": null,
   "metadata": {},
   "outputs": [],
   "source": []
  }
 ],
 "metadata": {
  "kernelspec": {
   "display_name": "Python 3",
   "language": "python",
   "name": "python3"
  },
  "language_info": {
   "codemirror_mode": {
    "name": "ipython",
    "version": 3
   },
   "file_extension": ".py",
   "mimetype": "text/x-python",
   "name": "python",
   "nbconvert_exporter": "python",
   "pygments_lexer": "ipython3",
   "version": "3.7.5"
  }
 },
 "nbformat": 4,
 "nbformat_minor": 4
}
